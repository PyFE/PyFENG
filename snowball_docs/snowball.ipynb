{
 "cells": [
  {
   "cell_type": "markdown",
   "source": [
    "<img src=\"https://ts1.cn.mm.bing.net/th/id/R-C.58c93ffe86fd63d4612fa936b26ca70c?rik=3pZtzfRbPLmAeg&riu=http%3a%2f%2fstatics.phbs.pku.edu.cn%2fstatics%2fimages%2fphbs_2017%2findex_logo.png&ehk=pTpCI9AZbDr2LSA8iYICtlHbI10JzVwazjq7PlqONdU%3d&risl=&pid=ImgRaw&r=0\" width=5%/>"
   ],
   "metadata": {
    "collapsed": false
   }
  },
  {
   "cell_type": "markdown",
   "source": [
    "# <center>  Snowball Option pricing under Monte Carlo simulation\n",
    "##### <center> Chen Wanqing, Chen Ziying"
   ],
   "metadata": {
    "collapsed": false
   }
  },
  {
   "cell_type": "markdown",
   "source": [
    "## 2. Volatility Calibration"
   ],
   "metadata": {
    "collapsed": false
   }
  },
  {
   "cell_type": "markdown",
   "source": [
    "### 2.1 BS Model\n",
    "#### 2.1.1 PDE\n",
    "**Underlying price following GBM**\n",
    "$$ \\frac{dS_{t}}{S_t} = r dt + \\sigma dW_t  \\tag{1}$$\n",
    "**Volatility is constant in the case of BS**\n",
    "\n",
    "#### 2.1.2 discretization\n",
    "**Underlying price has a solution:**\n",
    "$$ log(\\frac{S_{t+\\Delta_t}}{S_t}) = (r - 0.5  \\sigma^2)  \\Delta_t + \\sigma \\sqrt{\\Delta_t} W_1 \\tag{2}$$\n"
   ],
   "metadata": {
    "collapsed": false
   }
  },
  {
   "cell_type": "markdown",
   "source": [
    "### 2.2 Heston Model\n",
    "#### 2.2.1 PDE\n",
    "**Underlying price following GBM**\n",
    "$$ \\frac{dS_{t}}{S_t} = r dt + \\sigma_t dW_t  \\tag{3}$$\n",
    "**Volatility follows Heston model**\n",
    "$$ dv_t = \\kappa (\\theta - v_t) dt + \\nu \\sqrt{v_t}dZ_t  \\tag{4}$$\n",
    "**the correlation between $W_t$ and $Z_t$ is rho**\n",
    "$$dW_t = \\rho dZ_t + \\rho_*dX_t, \\rho_*=\\sqrt{1-\\rho^2} \\tag{5}$$\n",
    "\n",
    "#### 2.1.2 discretization\n",
    "**Underlying price has a solution:**\n",
    "$$ log(\\frac{S_{t+\\Delta_t}}{S_t}) = (r - 0.5  \\sigma_t^2)  \\Delta_t + \\sigma_t \\sqrt{\\Delta_t} W_1 \\tag{6}$$\n",
    "**Euler scheme for time discretization of volatility**\n",
    "$$ v_{t+\\Delta_t} = v_t + \\kappa (\\theta - v_t) \\Delta_t + \\nu \\sqrt{v_t \\Delta_t}Z1  \\tag{7} $$\n",
    "**Andersen's method to solve the problem of v_t below zero**\n",
    "Andersen L (2008) Simple and efficient simulation of the Heston stochastic volatility model. Journal of Computational Finance 11:1–42. https://doi.org/10.21314/JCF.2008.189\n"
   ],
   "metadata": {
    "collapsed": false
   }
  },
  {
   "cell_type": "markdown",
   "source": [
    "### 2.3 Calibration results"
   ],
   "metadata": {
    "collapsed": false
   }
  },
  {
   "cell_type": "markdown",
   "source": [
    "#### 2.3.1 Data\n",
    "We obtained the volatility data of the CSI500ETF vanilla option from the wind. The data begins at 2022/09/19 when the option is listed. The data we use has a 1 year maturity."
   ],
   "metadata": {
    "collapsed": false
   }
  },
  {
   "cell_type": "code",
   "execution_count": 142,
   "outputs": [
    {
     "name": "stdout",
     "output_type": "stream",
     "text": [
      "The autoreload extension is already loaded. To reload it, use:\n",
      "  %reload_ext autoreload\n"
     ]
    }
   ],
   "source": [
    "%load_ext autoreload\n",
    "%autoreload 2"
   ],
   "metadata": {
    "collapsed": false,
    "pycharm": {
     "name": "#%%\n"
    }
   }
  },
  {
   "cell_type": "code",
   "execution_count": 208,
   "outputs": [],
   "source": [
    "import pandas as pd\n",
    "import numpy as np\n",
    "import matplotlib.pyplot as plt\n",
    "import pyfeng as pf\n",
    "from PyFENG.pyfeng.snowball import *"
   ],
   "metadata": {
    "collapsed": false,
    "pycharm": {
     "name": "#%%\n"
    }
   }
  },
  {
   "cell_type": "markdown",
   "source": [
    "The shown in below, the data has different strikes, the columns 600/800/... means  the strike is 60%/80%/... of the spot price.\n",
    "The dates start at 2022/09/19 and end at 2022/10/25"
   ],
   "metadata": {
    "collapsed": false
   }
  },
  {
   "cell_type": "code",
   "execution_count": 151,
   "outputs": [
    {
     "data": {
      "text/plain": "            600    800    900    950    975   1000   1025   1050   1100  \\\ndate                                                                      \n20220919  23.88  24.15  22.76  22.51  22.36  22.25  22.40  22.14  22.20   \n20220920  27.80  24.71  23.16  22.75  22.45  22.15  22.02  21.95  21.81   \n20220921  25.41  23.76  23.06  22.73  22.58  22.42  22.27  22.13  21.85   \n20220922  27.70  24.89  23.49  22.93  22.53  22.18  21.99  21.83  21.61   \n20220923  28.70  25.48  23.87  23.16  22.77  22.43  22.26  22.16  21.85   \n20220926  28.09  25.61  24.37  23.70  23.33  22.92  22.64  22.48  22.23   \n20220927  29.45  25.61  23.69  22.99  22.67  22.37  22.12  21.90  21.64   \n20220928  33.63  27.71  24.89  24.18  23.73  23.44  23.23  22.99  22.77   \n20220929  31.73  27.01  24.69  23.87  23.61  23.39  23.17  22.92  22.69   \n20220930  29.89  26.04  24.13  23.30  22.96  22.78  22.56  22.37  22.15   \n20221010  28.22  25.34  23.90  23.12  22.71  22.46  22.41  22.34  21.86   \n20221011  34.79  27.37  23.71  22.84  22.57  22.28  21.98  21.74  21.58   \n20221012  30.61  25.86  23.46  22.73  22.47  22.15  22.00  22.16  21.66   \n20221013  31.00  25.78  23.43  22.77  22.37  22.01  21.82  21.73  21.64   \n20221014  29.29  24.70  22.67  21.81  21.45  21.16  20.94  20.80  20.75   \n20221017  28.69  24.31  22.17  21.62  21.29  21.01  20.81  20.67  20.59   \n20221018  29.87  24.33  21.86  21.11  20.82  20.61  20.42  20.29  20.46   \n20221019  29.86  24.30  21.69  20.82  20.51  20.16  20.02  20.20  20.06   \n20221020  29.43  24.29  21.90  21.09  20.77  20.68  20.65  20.37  20.36   \n20221021  29.02  24.57  22.38  21.56  21.23  21.00  20.78  20.61  20.50   \n20221024  30.75  25.79  23.47  22.34  22.00  21.90  21.90  21.74  21.36   \n20221025  29.78  25.64  23.38  22.58  22.01  21.67  21.75  21.45  21.35   \n\n           1200   1300  \ndate                    \n20220919  21.96  22.80  \n20220920  21.96  22.20  \n20220921  21.33  20.87  \n20220922  21.80  22.55  \n20220923  21.85  22.04  \n20220926  22.25  22.68  \n20220927  21.67  21.88  \n20220928  22.72  23.09  \n20220929  22.78  23.04  \n20220930  22.19  22.60  \n20221010  22.23  22.72  \n20221011  21.55  22.21  \n20221012  22.00  22.89  \n20221013  21.99  22.63  \n20221014  21.22  22.00  \n20221017  20.99  21.69  \n20221018  20.46  20.32  \n20221019  20.29  21.02  \n20221020  20.71  21.30  \n20221021  20.85  21.54  \n20221024  21.71  23.37  \n20221025  21.78  22.55  ",
      "text/html": "<div>\n<style scoped>\n    .dataframe tbody tr th:only-of-type {\n        vertical-align: middle;\n    }\n\n    .dataframe tbody tr th {\n        vertical-align: top;\n    }\n\n    .dataframe thead th {\n        text-align: right;\n    }\n</style>\n<table border=\"1\" class=\"dataframe\">\n  <thead>\n    <tr style=\"text-align: right;\">\n      <th></th>\n      <th>600</th>\n      <th>800</th>\n      <th>900</th>\n      <th>950</th>\n      <th>975</th>\n      <th>1000</th>\n      <th>1025</th>\n      <th>1050</th>\n      <th>1100</th>\n      <th>1200</th>\n      <th>1300</th>\n    </tr>\n    <tr>\n      <th>date</th>\n      <th></th>\n      <th></th>\n      <th></th>\n      <th></th>\n      <th></th>\n      <th></th>\n      <th></th>\n      <th></th>\n      <th></th>\n      <th></th>\n      <th></th>\n    </tr>\n  </thead>\n  <tbody>\n    <tr>\n      <th>20220919</th>\n      <td>23.88</td>\n      <td>24.15</td>\n      <td>22.76</td>\n      <td>22.51</td>\n      <td>22.36</td>\n      <td>22.25</td>\n      <td>22.40</td>\n      <td>22.14</td>\n      <td>22.20</td>\n      <td>21.96</td>\n      <td>22.80</td>\n    </tr>\n    <tr>\n      <th>20220920</th>\n      <td>27.80</td>\n      <td>24.71</td>\n      <td>23.16</td>\n      <td>22.75</td>\n      <td>22.45</td>\n      <td>22.15</td>\n      <td>22.02</td>\n      <td>21.95</td>\n      <td>21.81</td>\n      <td>21.96</td>\n      <td>22.20</td>\n    </tr>\n    <tr>\n      <th>20220921</th>\n      <td>25.41</td>\n      <td>23.76</td>\n      <td>23.06</td>\n      <td>22.73</td>\n      <td>22.58</td>\n      <td>22.42</td>\n      <td>22.27</td>\n      <td>22.13</td>\n      <td>21.85</td>\n      <td>21.33</td>\n      <td>20.87</td>\n    </tr>\n    <tr>\n      <th>20220922</th>\n      <td>27.70</td>\n      <td>24.89</td>\n      <td>23.49</td>\n      <td>22.93</td>\n      <td>22.53</td>\n      <td>22.18</td>\n      <td>21.99</td>\n      <td>21.83</td>\n      <td>21.61</td>\n      <td>21.80</td>\n      <td>22.55</td>\n    </tr>\n    <tr>\n      <th>20220923</th>\n      <td>28.70</td>\n      <td>25.48</td>\n      <td>23.87</td>\n      <td>23.16</td>\n      <td>22.77</td>\n      <td>22.43</td>\n      <td>22.26</td>\n      <td>22.16</td>\n      <td>21.85</td>\n      <td>21.85</td>\n      <td>22.04</td>\n    </tr>\n    <tr>\n      <th>20220926</th>\n      <td>28.09</td>\n      <td>25.61</td>\n      <td>24.37</td>\n      <td>23.70</td>\n      <td>23.33</td>\n      <td>22.92</td>\n      <td>22.64</td>\n      <td>22.48</td>\n      <td>22.23</td>\n      <td>22.25</td>\n      <td>22.68</td>\n    </tr>\n    <tr>\n      <th>20220927</th>\n      <td>29.45</td>\n      <td>25.61</td>\n      <td>23.69</td>\n      <td>22.99</td>\n      <td>22.67</td>\n      <td>22.37</td>\n      <td>22.12</td>\n      <td>21.90</td>\n      <td>21.64</td>\n      <td>21.67</td>\n      <td>21.88</td>\n    </tr>\n    <tr>\n      <th>20220928</th>\n      <td>33.63</td>\n      <td>27.71</td>\n      <td>24.89</td>\n      <td>24.18</td>\n      <td>23.73</td>\n      <td>23.44</td>\n      <td>23.23</td>\n      <td>22.99</td>\n      <td>22.77</td>\n      <td>22.72</td>\n      <td>23.09</td>\n    </tr>\n    <tr>\n      <th>20220929</th>\n      <td>31.73</td>\n      <td>27.01</td>\n      <td>24.69</td>\n      <td>23.87</td>\n      <td>23.61</td>\n      <td>23.39</td>\n      <td>23.17</td>\n      <td>22.92</td>\n      <td>22.69</td>\n      <td>22.78</td>\n      <td>23.04</td>\n    </tr>\n    <tr>\n      <th>20220930</th>\n      <td>29.89</td>\n      <td>26.04</td>\n      <td>24.13</td>\n      <td>23.30</td>\n      <td>22.96</td>\n      <td>22.78</td>\n      <td>22.56</td>\n      <td>22.37</td>\n      <td>22.15</td>\n      <td>22.19</td>\n      <td>22.60</td>\n    </tr>\n    <tr>\n      <th>20221010</th>\n      <td>28.22</td>\n      <td>25.34</td>\n      <td>23.90</td>\n      <td>23.12</td>\n      <td>22.71</td>\n      <td>22.46</td>\n      <td>22.41</td>\n      <td>22.34</td>\n      <td>21.86</td>\n      <td>22.23</td>\n      <td>22.72</td>\n    </tr>\n    <tr>\n      <th>20221011</th>\n      <td>34.79</td>\n      <td>27.37</td>\n      <td>23.71</td>\n      <td>22.84</td>\n      <td>22.57</td>\n      <td>22.28</td>\n      <td>21.98</td>\n      <td>21.74</td>\n      <td>21.58</td>\n      <td>21.55</td>\n      <td>22.21</td>\n    </tr>\n    <tr>\n      <th>20221012</th>\n      <td>30.61</td>\n      <td>25.86</td>\n      <td>23.46</td>\n      <td>22.73</td>\n      <td>22.47</td>\n      <td>22.15</td>\n      <td>22.00</td>\n      <td>22.16</td>\n      <td>21.66</td>\n      <td>22.00</td>\n      <td>22.89</td>\n    </tr>\n    <tr>\n      <th>20221013</th>\n      <td>31.00</td>\n      <td>25.78</td>\n      <td>23.43</td>\n      <td>22.77</td>\n      <td>22.37</td>\n      <td>22.01</td>\n      <td>21.82</td>\n      <td>21.73</td>\n      <td>21.64</td>\n      <td>21.99</td>\n      <td>22.63</td>\n    </tr>\n    <tr>\n      <th>20221014</th>\n      <td>29.29</td>\n      <td>24.70</td>\n      <td>22.67</td>\n      <td>21.81</td>\n      <td>21.45</td>\n      <td>21.16</td>\n      <td>20.94</td>\n      <td>20.80</td>\n      <td>20.75</td>\n      <td>21.22</td>\n      <td>22.00</td>\n    </tr>\n    <tr>\n      <th>20221017</th>\n      <td>28.69</td>\n      <td>24.31</td>\n      <td>22.17</td>\n      <td>21.62</td>\n      <td>21.29</td>\n      <td>21.01</td>\n      <td>20.81</td>\n      <td>20.67</td>\n      <td>20.59</td>\n      <td>20.99</td>\n      <td>21.69</td>\n    </tr>\n    <tr>\n      <th>20221018</th>\n      <td>29.87</td>\n      <td>24.33</td>\n      <td>21.86</td>\n      <td>21.11</td>\n      <td>20.82</td>\n      <td>20.61</td>\n      <td>20.42</td>\n      <td>20.29</td>\n      <td>20.46</td>\n      <td>20.46</td>\n      <td>20.32</td>\n    </tr>\n    <tr>\n      <th>20221019</th>\n      <td>29.86</td>\n      <td>24.30</td>\n      <td>21.69</td>\n      <td>20.82</td>\n      <td>20.51</td>\n      <td>20.16</td>\n      <td>20.02</td>\n      <td>20.20</td>\n      <td>20.06</td>\n      <td>20.29</td>\n      <td>21.02</td>\n    </tr>\n    <tr>\n      <th>20221020</th>\n      <td>29.43</td>\n      <td>24.29</td>\n      <td>21.90</td>\n      <td>21.09</td>\n      <td>20.77</td>\n      <td>20.68</td>\n      <td>20.65</td>\n      <td>20.37</td>\n      <td>20.36</td>\n      <td>20.71</td>\n      <td>21.30</td>\n    </tr>\n    <tr>\n      <th>20221021</th>\n      <td>29.02</td>\n      <td>24.57</td>\n      <td>22.38</td>\n      <td>21.56</td>\n      <td>21.23</td>\n      <td>21.00</td>\n      <td>20.78</td>\n      <td>20.61</td>\n      <td>20.50</td>\n      <td>20.85</td>\n      <td>21.54</td>\n    </tr>\n    <tr>\n      <th>20221024</th>\n      <td>30.75</td>\n      <td>25.79</td>\n      <td>23.47</td>\n      <td>22.34</td>\n      <td>22.00</td>\n      <td>21.90</td>\n      <td>21.90</td>\n      <td>21.74</td>\n      <td>21.36</td>\n      <td>21.71</td>\n      <td>23.37</td>\n    </tr>\n    <tr>\n      <th>20221025</th>\n      <td>29.78</td>\n      <td>25.64</td>\n      <td>23.38</td>\n      <td>22.58</td>\n      <td>22.01</td>\n      <td>21.67</td>\n      <td>21.75</td>\n      <td>21.45</td>\n      <td>21.35</td>\n      <td>21.78</td>\n      <td>22.55</td>\n    </tr>\n  </tbody>\n</table>\n</div>"
     },
     "execution_count": 151,
     "metadata": {},
     "output_type": "execute_result"
    }
   ],
   "source": [
    "IV_df = pd.read_excel('IV_with_different_strike_1Y.xlsx', header=2)\n",
    "strike_ls = [600,800,900,950,975,1000, 1025, 1050, 1100, 1200, 1300]\n",
    "IV_df.columns = ['date'] +IV_df.columns[1:].str[10:].tolist()\n",
    "IV_df = IV_df.set_index('date')\n",
    "IV_df =IV_df[[str(x) for x in strike_ls]]\n",
    "IV_df = IV_df.dropna(axis=0)\n",
    "IV_df"
   ],
   "metadata": {
    "collapsed": false,
    "pycharm": {
     "name": "#%%\n"
    }
   }
  },
  {
   "cell_type": "markdown",
   "source": [
    "We choose the date 2022/10/19 and fit the volatility curve. 2022/10/19 is chosen because:\n",
    "- the option is listed at the date 2022/09/19 so the liquidity at the beginning of the dates would be not so good, and the vol smile might be biased.\n",
    "- October has a long holiday and a before and after the holiday the market was quite volatile.\n",
    "- After 2022/10/21, the market again experienced dramatic drop...\n",
    "- 2022/10/19 might be suitable since the option has listed one month."
   ],
   "metadata": {
    "collapsed": false
   }
  },
  {
   "cell_type": "markdown",
   "source": [
    "#### 2.3.2 BS model\n",
    "Under BS model, the volatility is constant, we just assume sigma=0.24.\n",
    "\n",
    "*Note: the interest rate is a 1 year CDB(China Development Bank) bond, because CDB bond is the most liquid bond in China market, and more liquid than goverment bond.*"
   ],
   "metadata": {
    "collapsed": false
   }
  },
  {
   "cell_type": "code",
   "execution_count": 219,
   "metadata": {
    "collapsed": false,
    "pycharm": {
     "name": "#%%\n"
    }
   },
   "outputs": [
    {
     "data": {
      "text/plain": "<Figure size 432x288 with 1 Axes>",
      "image/png": "[encoded data removed]"
     },
     "metadata": {
      "needs_background": "light"
     },
     "output_type": "display_data"
    }
   ],
   "source": [
    "model_BS = pf.Bsm(sigma=0.24, intr=0.019155, divr=0)\n",
    "vol_BS = model_BS.vol_smile(np.array(strike_ls)/1000 * 5.919, 5.919, texp=1, model='bsm')\n",
    "\n",
    "date = 20221019\n",
    "plt.plot(strike_ls, vol_BS, label='IV under BS')\n",
    "plt.plot(strike_ls, IV_df.loc[date,:]/100, label='real market IV at date {}'.format(date))\n",
    "plt.legend()\n",
    "plt.grid()\n",
    "plt.show()"
   ]
  },
  {
   "cell_type": "markdown",
   "source": [
    "When sigma=0.24, we get the price of snowball with spot of 5955.52, 3 year maturity, 15.2% coupon rate, 75% knock-in bound, 100% knock-out bond under the Heston model is 10640.56, with 10000 notional. The result is not satisfying."
   ],
   "metadata": {
    "collapsed": false
   }
  },
  {
   "cell_type": "code",
   "execution_count": 220,
   "outputs": [
    {
     "name": "stdout",
     "output_type": "stream",
     "text": [
      "10640.567950152112\n"
     ]
    }
   ],
   "source": [
    "texp = 3\n",
    "coupon_rate = 0.152\n",
    "bound = [0.75, 1]\n",
    "notional = 10000\n",
    "snowball = Snowball(BSMC, texp, coupon_rate, bound, n_path=10000)\n",
    "snowball.set_model_param(sigma=0.24)\n",
    "price = snowball.price(5955.52)\n",
    "print(price)"
   ],
   "metadata": {
    "collapsed": false,
    "pycharm": {
     "name": "#%%\n"
    }
   }
  },
  {
   "cell_type": "markdown",
   "source": [
    "#### 2.3.3 Calibrate Heston Model\n",
    "At date 2022/10/19, we find the parameters that fits the real market volatility smile:\n",
    "sigma=0.04, vov=0.5, rho=-0.3, mr=0.5, theta=0.1\n",
    "\n",
    "*Note: the interest rate is a 1 year CDB(China Development Bank) bond, because CDB bond is the most liquid bond in China market, and more liquid than goverment bond.*"
   ],
   "metadata": {
    "collapsed": false
   }
  },
  {
   "cell_type": "code",
   "execution_count": 203,
   "outputs": [],
   "source": [
    "model_Heston = pf.HestonFft(sigma=0.04, vov=0.5, rho=-0.3, mr=0.5, theta=0.1, intr=0.019155)\n",
    "vol_Heston = model_Heston.vol_smile(np.array(strike_ls)/1000 * 5.919, 5.919, texp=1)"
   ],
   "metadata": {
    "collapsed": false,
    "pycharm": {
     "name": "#%%\n"
    }
   }
  },
  {
   "cell_type": "code",
   "execution_count": 204,
   "outputs": [
    {
     "data": {
      "text/plain": "<Figure size 432x288 with 1 Axes>",
      "image/png": "[encoded data removed]"
     },
     "metadata": {
      "needs_background": "light"
     },
     "output_type": "display_data"
    }
   ],
   "source": [
    "date = 20221019\n",
    "plt.plot(strike_ls, vol_Heston, label='IV under Heston at date {}'.format(date))\n",
    "plt.plot(strike_ls, IV_df.loc[date,:]/100, label='real market IV at date {}'.format(date))\n",
    "plt.legend()\n",
    "plt.grid()\n",
    "plt.show()"
   ],
   "metadata": {
    "collapsed": false,
    "pycharm": {
     "name": "#%%\n"
    }
   }
  },
  {
   "cell_type": "markdown",
   "source": [
    "Using the parameters we get the price of snowball with spot of 5955.52, 3 year maturity, 15.2% coupon rate, 75% knock-in bound, 100% knock-out bond under the Heston model is 9615.16, with 10000 notional."
   ],
   "metadata": {
    "collapsed": false
   }
  },
  {
   "cell_type": "code",
   "execution_count": 210,
   "outputs": [
    {
     "name": "stdout",
     "output_type": "stream",
     "text": [
      "9615.162828559283\n"
     ]
    }
   ],
   "source": [
    "texp = 3\n",
    "coupon_rate = 0.152\n",
    "bound = [0.75, 1]\n",
    "notional = 10000\n",
    "snowball = Snowball(HestonMC, texp, coupon_rate, bound, n_path=10000)\n",
    "snowball.set_model_param(sigma=0.04, vov=0.5, rho=-0.3, mr=0.5, theta=0.1, intr=0.019155)\n",
    "price = snowball.price(5955.52, Andersen=True)\n",
    "print(price)"
   ],
   "metadata": {
    "collapsed": false,
    "pycharm": {
     "name": "#%%\n"
    }
   }
  },
  {
   "cell_type": "code",
   "execution_count": 214,
   "metadata": {
    "collapsed": false,
    "pycharm": {
     "name": "#%%\n"
    }
   },
   "outputs": [],
   "source": []
  },
  {
   "cell_type": "code",
   "execution_count": 214,
   "metadata": {
    "collapsed": false,
    "pycharm": {
     "name": "#%%\n"
    }
   },
   "outputs": [],
   "source": [
    "# strike_ls = [600,800,900,950,975,1000, 1025, 1050, 1100, 1200, 1300]\n",
    "# for sigma in np.linspace(0.001, 0.2, 50):\n",
    "#     model_BS = pf.Bsm(sigma=sigma, intr=0.019155, divr=0)\n",
    "#     vol_BS = model_BS.vol_smile(np.array(strike_ls)/1000 * 5.919, 5.919, texp=1, model='bsm')\n",
    "#     date = 20220919\n",
    "#     plt.plot(strike_ls, vol_BS, label='IV under BS at date {}'.format(date))\n",
    "#     plt.plot(strike_ls, IV_df.loc[date,:]/100, label='real market IV at date {}'.format(date))\n",
    "#     plt.title('sigma = '+str(sigma))\n",
    "#     plt.legend()\n",
    "#     plt.grid()\n",
    "#     plt.show()"
   ]
  },
  {
   "cell_type": "code",
   "execution_count": null,
   "metadata": {
    "collapsed": false,
    "pycharm": {
     "name": "#%%\n"
    }
   },
   "outputs": [],
   "source": []
  }
 ],
 "metadata": {
  "kernelspec": {
   "display_name": "Python 3.8.8 ('base')",
   "language": "python",
   "name": "python3"
  },
  "language_info": {
   "codemirror_mode": {
    "name": "ipython",
    "version": 2
   },
   "file_extension": ".py",
   "mimetype": "text/x-python",
   "name": "python",
   "nbconvert_exporter": "python",
   "pygments_lexer": "ipython2",
   "version": "3.8.8"
  },
  "vscode": {
   "interpreter": {
    "hash": "49cb93f377a7abe7414b7b0f21fb3017538004a126cf690fb524202736b7fb92"
   }
  }
 },
 "nbformat": 4,
 "nbformat_minor": 0
}