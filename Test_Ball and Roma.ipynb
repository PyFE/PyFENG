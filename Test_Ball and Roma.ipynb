{
 "cells": [
  {
   "cell_type": "markdown",
   "id": "83347549",
   "metadata": {},
   "source": [
    "# Ball and Roma's Stochastic Volatility Option Pricing"
   ]
  },
  {
   "cell_type": "markdown",
   "id": "c52c81e9",
   "metadata": {},
   "source": [
    "Zhang Wenchang, 2001212425@pku.edu.cn"
   ]
  },
  {
   "cell_type": "markdown",
   "id": "b78b4b49",
   "metadata": {},
   "source": [
    "## 1 Formula Summary"
   ]
  },
  {
   "cell_type": "markdown",
   "id": "3814d790",
   "metadata": {},
   "source": [
    "### 1.1 Introduction"
   ]
  },
  {
   "cell_type": "markdown",
   "id": "d90b1d38",
   "metadata": {},
   "source": [
    "Ball and Roma(1994) in their paper examined alternative methods for pricing options when the underlying security volatility is stochastic. they showed that when there is no correlation between innovations in security price and volatility, the characteristic function of the average variance of the pricing process played a pivotal role. It may be used to simplify the Fourier option pricing techniques and to implement simple power series methods. They compared these methods for the alternative mean-reverting stochastics volatility models introduced by Stein and Stein(1991) and Heston(1993). They also examined the biases in Black-Scholes model that are eliminated by allowing stochastic volatility and corrected some previous mistakes."
   ]
  },
  {
   "cell_type": "markdown",
   "id": "fa6b37fd",
   "metadata": {},
   "source": [
    "### 1.2 The Distribution of the Average Variance and Option Pricing"
   ]
  },
  {
   "cell_type": "markdown",
   "id": "9566bcae",
   "metadata": {},
   "source": [
    "A conditional lognormal diffusion for the security price dynamics(P) subject to a stochastic volatility that also evolves as a diffusion was proposed: \n",
    "\\begin{align}\n",
    "    dP & = \\mu P dt + \\sigma P dz_1. \\tag{1}\n",
    "\\end{align}"
   ]
  },
  {
   "cell_type": "markdown",
   "id": "3a2d6792",
   "metadata": {},
   "source": [
    "where $\\mu P$ is the local drfit of price process. S&S stochastic volatility as a mean-reverting process, \n",
    "\\begin{align}\n",
    "d\\sigma & = -\\delta (\\sigma - \\theta) dt + k dz_2. \\tag{2}\n",
    "\\end{align}"
   ]
  },
  {
   "cell_type": "markdown",
   "id": "0c7d7a50",
   "metadata": {},
   "source": [
    "$z_1$ and $z_2$ are independent standard BMs. Here, $\\theta$ is the long-term mean of the volatility process, $\\delta$ governs the rate of reversion to this mean, and k reflects the volatility of the volatility process. As H&W assumes, the stochastic volatility follows the independent lognormal diffusion process,\n",
    "\\begin{align}\n",
    "d\\sigma & = \\mu_\\sigma \\sigma dt + k_\\sigma dz_2. \\tag{3}\n",
    "\\end{align}"
   ]
  },
  {
   "cell_type": "markdown",
   "id": "33c6910c",
   "metadata": {},
   "source": [
    "In (3), $\\mu_\\sigma \\sigma$ is the local drift of the volatility and $k_\\sigma$ reflects the volatility of the volatility. "
   ]
  },
  {
   "cell_type": "markdown",
   "id": "ed04c4b3",
   "metadata": {},
   "source": [
    "We directly consider a diffusion specification for $v=\\sigma^{2}$,\n",
    "\\begin{align}\n",
    "dv & = m(v) dt + k(v) dz_2. \\tag{4}\n",
    "\\end{align}"
   ]
  },
  {
   "cell_type": "markdown",
   "id": "40ed805d",
   "metadata": {},
   "source": [
    "Under the proposed dynamics for the security prices, contingent claims must satisfy a PDE that includes a market risk premium for volatility due to the fact that volatility is not spanned by assets in the economy. We report the fundamental PDE for the option price F, \n",
    "\\begin{align}\n",
    "1/2 \\sigma^{2} P^{2} F_{PP} + r P F_P - r F + F_t + 1/2 k^{2}(v) F_{vv} + [m(v) - \\phi k(v)] F_v = 0. \\tag{5}\n",
    "\\end{align}"
   ]
  },
  {
   "cell_type": "markdown",
   "id": "10396f25",
   "metadata": {},
   "source": [
    "where $\\phi$ is the market price of the volatility risk and r is risk-free rate. The analyses of option pricing, however, are centered on the distribution of the average variance(AV) of the price process over the life of the option [0,T],\n",
    "\\begin{equation}\n",
    "AV = \\frac {1} {T} \\int_{0}^{T} \\sigma^{2}(s) ds.\n",
    "\\end{equation}"
   ]
  },
  {
   "cell_type": "markdown",
   "id": "8cd50746",
   "metadata": {},
   "source": [
    "### 1.3 Fourier inversion and the average variance"
   ]
  },
  {
   "cell_type": "markdown",
   "id": "98730856",
   "metadata": {},
   "source": [
    "Given the density function of the future security price, given as $f_s(P)$, the price, $F_0$, of an European call option of strike price K and time to maturity T is given by:\n",
    "\\begin{align}\n",
    "F_0 & = e^{-r T} \\int_{P=K}^{\\infty} (P - K) f_s(P) dP. \\tag{6}\n",
    "\\end{align}"
   ]
  },
  {
   "cell_type": "markdown",
   "id": "eb61bceb",
   "metadata": {},
   "source": [
    "The conditional distribution of the terminal security price, P, given the average variance, is lognormally distributed. The density function of P is derived by inverting the Fourier transform for the convolution of the lognormal density of P conditional on AV, and density of AV. for $\\mu = 0$, \n",
    "\\begin{align}\n",
    "f_s(P) & = P^{- 3/2} (2 \\pi)^{-1} \\int_{- \\infty}^{\\infty} e^{i log(P) \\eta} I((\\eta^{2} + 1/4) T/2) d\\eta, \\tag{7}\n",
    "\\end{align}"
   ]
  },
  {
   "cell_type": "markdown",
   "id": "7469c92c",
   "metadata": {},
   "source": [
    "A key role is played by the MGF of the cumulative variance over the period T,\n",
    "\\begin{align}\n",
    "I(\\lambda) & = E[exp(- \\lambda \\int_{0}^{T} \\sigma^{2}(s) ds)]. \\tag{8}\n",
    "\\end{align}"
   ]
  },
  {
   "cell_type": "markdown",
   "id": "dbabc4cd",
   "metadata": {},
   "source": [
    "The MGF defined above can be used in two ways: (1) to obtain the joint terminal density of the average variance and future security price; (2) to obtain the moments of the average variance. (1) allows the option pricing through Fourier inversion methods; (2) permits power series expansion methods."
   ]
  },
  {
   "cell_type": "markdown",
   "id": "0081369b",
   "metadata": {},
   "source": [
    "### 1.4 The power series method and the MGF of average variance"
   ]
  },
  {
   "cell_type": "markdown",
   "id": "9fd17579",
   "metadata": {},
   "source": [
    "The option prices are the nonlinear functions of the average variance of the underlying asset. Denoting OP for the price of the option, we have:\n",
    "\\begin{align}\n",
    "OP & = \\int_{AV}^{} BS(AV) f(AV) d(AV) = BS(E(AV)) + \\frac {d^{2}(BS(E(AV)))} {2 d(AV)^{2}} Var(AV) + \\frac {d^{3}(BS(E(AV)))} {6 d(AV)^{3}} Skew(AV), \\tag{9}\n",
    "\\end{align}"
   ]
  },
  {
   "cell_type": "markdown",
   "id": "37603139",
   "metadata": {},
   "source": [
    "where Var(AV) and Skew(AV) are the second and third central moments of AV."
   ]
  },
  {
   "cell_type": "markdown",
   "id": "19077220",
   "metadata": {},
   "source": [
    "### 1.5 Option pricing under alternative stochastic volatility models"
   ]
  },
  {
   "cell_type": "markdown",
   "id": "43bb7dce",
   "metadata": {},
   "source": [
    "The two approaches previously described may be extended to alternative volatility models. In fact, the specification of the MGF in equation (8) is closely linked to term structure of interest rate problems. In continuous-time modeling, the price of a bond is often determined through the representation,\n",
    "\\begin{align}\n",
    "E[exp - \\int_{0}^{T} r(s) ds]. \\tag{10}\n",
    "\\end{align}"
   ]
  },
  {
   "cell_type": "markdown",
   "id": "f18a43d2",
   "metadata": {},
   "source": [
    "r, as the spot interest rate, follows a diffusion process. When r is positive, the bond pricing formulae can be viewed as the MGFs of the time integral of positive diffusions, analogous to equation (8). "
   ]
  },
  {
   "cell_type": "markdown",
   "id": "3ec57d16",
   "metadata": {},
   "source": [
    "### 1.6 The MGF of the square-root mean-reverting volatility process"
   ]
  },
  {
   "cell_type": "markdown",
   "id": "f0722e4d",
   "metadata": {},
   "source": [
    "In the CIR process, the MGF was solved as\n",
    "\\begin{align}\n",
    "dr & = \\alpha (m - r) dt + \\zeta \\sqrt{r} dz.\n",
    "\\end{align}"
   ]
  },
  {
   "cell_type": "markdown",
   "id": "cf8dcbc1",
   "metadata": {},
   "source": [
    "Let the instantaneous variance in (1), $v(t) = \\sigma^{2}(t)$, follow the square-root process, we have\n",
    "\\begin{align}\n",
    "dv & = \\alpha (m - r) dt + \\zeta \\sqrt{v} dz. \\tag{11}\n",
    "\\end{align}"
   ]
  },
  {
   "cell_type": "markdown",
   "id": "0e0782ff",
   "metadata": {},
   "source": [
    "In this expression, m denotes the long-term mean of the variance, $\\alpha$ governs the rate at which the variance converges to this mean, and $\\zeta$ reflects the volatility of the variance process. The MGF is\n",
    "\\begin{align}\n",
    "I^{*}(\\lambda) & = E[exp - \\frac {\\lambda} {T} \\int_{0}^{T} v(s) ds] = E[exp - \\int_{0}^{T} v^{*}(s) ds]. \\tag{12}\n",
    "\\end{align}"
   ]
  },
  {
   "cell_type": "markdown",
   "id": "c51917d0",
   "metadata": {},
   "source": [
    "$v^{*} = (\\frac {\\lambda} {T}) v $ follows the process\n",
    "\\begin{align}\n",
    "dv^{*} = \\alpha ( \\frac {\\lambda} {T} m - v^{*}) dt + \\zeta \\sqrt{ \\frac {\\lambda v^{*}} {T}} dz. \\tag{13}\n",
    "\\end{align}"
   ]
  },
  {
   "cell_type": "markdown",
   "id": "243b0d5f",
   "metadata": {},
   "source": [
    "Using the CIR result, the evaluation of the MGF can be written explicitly as \n",
    "\\begin{align}\n",
    "I^{*}(\\lambda) & = e^{N^{*}(T) + M^{*}(T) v^{*}}, \\tag{14}\n",
    "\\end{align}"
   ]
  },
  {
   "cell_type": "markdown",
   "id": "f4582380",
   "metadata": {},
   "source": [
    "with $N^{*}(T) = \\frac {2 \\alpha m} {\\zeta^{2}} Ln( \\frac {2 \\gamma e^{(\\alpha - \\gamma)(T/2)}} {g(T)} )$, $M^{*}(T) = \\frac {-2 (1 - e^{\\gamma T})} {g(T)}$, where $\\gamma = \\sqrt{\\alpha^{2} + 2 \\frac {\\lambda} {T} \\zeta^{2}}$, and $g(T) = 2 \\gamma + (\\alpha - \\gamma) (1 - e^{- \\gamma T})$."
   ]
  },
  {
   "cell_type": "markdown",
   "id": "71994375",
   "metadata": {},
   "source": [
    "The equation (14) provides a simple form of the MGF of the average variance. The underlying dynamics of the evolution of volatility are also quite plausible and tractable in that the process is mean reverting with a gamma limiting distribution. The density function of the security price P at some future time T is obtained:\n",
    "\\begin{align}\n",
    "f_S(P) & = e^{\\mu T/2} (\\frac {1} {2 \\pi}) P^{- 3/2} \\int_{-\\infty}^{\\infty} I^{*}[(\\eta^{2} + \\frac {1} {4}) \\frac {T} {2}] cos((Ln P - \\mu T) \\eta) d\\eta . \\tag{15}\n",
    "\\end{align}"
   ]
  },
  {
   "cell_type": "markdown",
   "id": "97014e1c",
   "metadata": {},
   "source": [
    "### 1.7 Bias in the average value of variance and its impact on option pricing "
   ]
  },
  {
   "cell_type": "markdown",
   "id": "01c4df6c",
   "metadata": {},
   "source": [
    "In this section, the behaviour of the average variance under equation (2) is analyzed."
   ]
  },
  {
   "cell_type": "markdown",
   "id": "eb89323d",
   "metadata": {},
   "source": [
    "We can compute the mean of the average variance for any T under equation (2):\n",
    "\\begin{align}\n",
    "E(AV) & = E[\\frac {1} {T} \\int_{0}^{T} \\sigma^{2}(t) dt] = \\frac {k^{2}} {2 \\delta} + \\theta^{2} + \\frac {1} {T} (\\frac {2 \\theta (\\sigma(0) - \\theta)} {\\delta} (1 - e^{- \\delta T}) - \\frac {k^{2} - 2 \\delta (\\sigma(0) - \\theta)^{2}} {4 \\delta^{2}} (1 - e^{-2 \\delta T}))\n",
    "\\end{align}"
   ]
  },
  {
   "cell_type": "markdown",
   "id": "376cc302",
   "metadata": {},
   "source": [
    "This derivation relies on linearity of expectation and some known results on the mean/variance of the OU process."
   ]
  },
  {
   "cell_type": "markdown",
   "id": "5ef21175",
   "metadata": {},
   "source": [
    "The average variance converges to a point above $\\theta^{2}$ even though $\\theta$ is the long-term mean of $\\sigma$."
   ]
  },
  {
   "cell_type": "markdown",
   "id": "2d25ea3e",
   "metadata": {},
   "source": [
    "Stein and Stein (1991) reported a systematic upward pricing effect due to stochastic volatility. By computing their option pricing methods using the power series approach, we can clearly see the source of the inconsistency of the results."
   ]
  },
  {
   "cell_type": "markdown",
   "id": "b180a30e",
   "metadata": {},
   "source": []
  },
  {
   "cell_type": "markdown",
   "id": "e3a09743",
   "metadata": {},
   "source": [
    "## 2 Numerical experiments"
   ]
  },
  {
   "cell_type": "markdown",
   "id": "e5b43645",
   "metadata": {},
   "source": [
    "This section reproduces the results in [Ball and Roma(1994)](https://doi.org/10.2307/2331111)."
   ]
  },
  {
   "cell_type": "code",
   "execution_count": 1,
   "id": "6190da18",
   "metadata": {},
   "outputs": [],
   "source": [
    "%load_ext autoreload\n",
    "%autoreload 2"
   ]
  },
  {
   "cell_type": "code",
   "execution_count": 2,
   "id": "3f73cdd1",
   "metadata": {},
   "outputs": [],
   "source": [
    "import numpy as np\n",
    "import pandas as pd\n",
    "import pyfeng as pf"
   ]
  },
  {
   "cell_type": "code",
   "execution_count": 3,
   "id": "2060d051",
   "metadata": {},
   "outputs": [],
   "source": [
    "from pyfeng import ousv"
   ]
  },
  {
   "cell_type": "code",
   "execution_count": 4,
   "id": "6223353c",
   "metadata": {},
   "outputs": [],
   "source": [
    "file = 'ASP_Project.xlsx'"
   ]
  },
  {
   "cell_type": "markdown",
   "id": "59ecded7",
   "metadata": {},
   "source": [
    "### 2.1 Results in [Ball and Roma(1994)](https://doi.org/10.2307/2331111)."
   ]
  },
  {
   "cell_type": "markdown",
   "id": "cbefdb03",
   "metadata": {},
   "source": [
    "#### Table 1A\n",
    "#### Changing strike"
   ]
  },
  {
   "cell_type": "code",
   "execution_count": 5,
   "id": "6327ed5c",
   "metadata": {},
   "outputs": [
    {
     "data": {
      "text/html": [
       "<div>\n",
       "<style scoped>\n",
       "    .dataframe tbody tr th:only-of-type {\n",
       "        vertical-align: middle;\n",
       "    }\n",
       "\n",
       "    .dataframe tbody tr th {\n",
       "        vertical-align: top;\n",
       "    }\n",
       "\n",
       "    .dataframe thead th {\n",
       "        text-align: right;\n",
       "    }\n",
       "</style>\n",
       "<table border=\"1\" class=\"dataframe\">\n",
       "  <thead>\n",
       "    <tr style=\"text-align: right;\">\n",
       "      <th></th>\n",
       "      <th>Strike</th>\n",
       "      <th>BS</th>\n",
       "      <th>OP2</th>\n",
       "      <th>OP3</th>\n",
       "      <th>Exact</th>\n",
       "    </tr>\n",
       "  </thead>\n",
       "  <tbody>\n",
       "    <tr>\n",
       "      <th>0</th>\n",
       "      <td>80</td>\n",
       "      <td>21.425</td>\n",
       "      <td>21.430</td>\n",
       "      <td>21.426</td>\n",
       "      <td>21.430</td>\n",
       "    </tr>\n",
       "    <tr>\n",
       "      <th>1</th>\n",
       "      <td>90</td>\n",
       "      <td>13.990</td>\n",
       "      <td>13.933</td>\n",
       "      <td>13.937</td>\n",
       "      <td>13.935</td>\n",
       "    </tr>\n",
       "    <tr>\n",
       "      <th>2</th>\n",
       "      <td>100</td>\n",
       "      <td>8.447</td>\n",
       "      <td>8.357</td>\n",
       "      <td>8.367</td>\n",
       "      <td>8.359</td>\n",
       "    </tr>\n",
       "    <tr>\n",
       "      <th>3</th>\n",
       "      <td>110</td>\n",
       "      <td>4.746</td>\n",
       "      <td>4.677</td>\n",
       "      <td>4.683</td>\n",
       "      <td>4.680</td>\n",
       "    </tr>\n",
       "    <tr>\n",
       "      <th>4</th>\n",
       "      <td>120</td>\n",
       "      <td>2.504</td>\n",
       "      <td>2.485</td>\n",
       "      <td>2.483</td>\n",
       "      <td>2.487</td>\n",
       "    </tr>\n",
       "  </tbody>\n",
       "</table>\n",
       "</div>"
      ],
      "text/plain": [
       "   Strike      BS     OP2     OP3   Exact\n",
       "0      80  21.425  21.430  21.426  21.430\n",
       "1      90  13.990  13.933  13.937  13.935\n",
       "2     100   8.447   8.357   8.367   8.359\n",
       "3     110   4.746   4.677   4.683   4.680\n",
       "4     120   2.504   2.485   2.483   2.487"
      ]
     },
     "execution_count": 5,
     "metadata": {},
     "output_type": "execute_result"
    }
   ],
   "source": [
    "df = pd.read_excel(file, sheet_name='1')\n",
    "df"
   ]
  },
  {
   "cell_type": "code",
   "execution_count": 6,
   "id": "928e2db9",
   "metadata": {},
   "outputs": [
    {
     "data": {
      "text/plain": [
       "(array([21.425, 13.99 ,  8.447,  4.746,  2.504]), array([0., 0., 0., 0., 0.]))"
      ]
     },
     "execution_count": 6,
     "metadata": {},
     "output_type": "execute_result"
    }
   ],
   "source": [
    "strike = np.arange(80., 121., 10)\n",
    "m_bs = pf.Bsm(sigma=0.3, intr=0, divr=0)\n",
    "result = m_bs.price(strike, 100, texp=0.5, cp=1)\n",
    "np.round(result, 3), np.round(result, 3) - df['BS'].values"
   ]
  },
  {
   "cell_type": "code",
   "execution_count": 7,
   "id": "27c618d2",
   "metadata": {},
   "outputs": [],
   "source": [
    "model = ousv.OusvBallRoma1994(sigma=0.09, mr=4, vov=0.4, rho=0, intr=0)"
   ]
  },
  {
   "cell_type": "code",
   "execution_count": 8,
   "id": "a9a391d0",
   "metadata": {},
   "outputs": [
    {
     "name": "stderr",
     "output_type": "stream",
     "text": [
      "C:\\Anaconda3\\lib\\site-packages\\pyfeng\\ousv.py:93: RuntimeWarning: divide by zero encountered in log\n",
      "  n = 2 * self.mr * self.theta * np.log(2 * gamma * np.exp((self.mr - gamma) * texp / 2) / g) /  (self.vov * self.vov)\n",
      "C:\\Anaconda3\\lib\\site-packages\\pyfeng\\ousv.py:119: IntegrationWarning: The maximum number of subdivisions (50) has been achieved.\n",
      "  If increasing the limit yields no improvement it is advised to analyze \n",
      "  the integrand in order to determine the difficulties.  If the position of a \n",
      "  local difficulty can be determined (singularity, discontinuity) one will \n",
      "  probably gain from splitting up the interval and calling the integrator \n",
      "  on the subranges.  Perhaps a special-purpose integrator should be used.\n",
      "  f,err = scint.quad(func_1, -np.inf, np.inf)\n",
      "C:\\Anaconda3\\lib\\site-packages\\pyfeng\\ousv.py:119: IntegrationWarning: The integral is probably divergent, or slowly convergent.\n",
      "  f,err = scint.quad(func_1, -np.inf, np.inf)\n",
      "C:\\Anaconda3\\lib\\site-packages\\pyfeng\\ousv.py:132: IntegrationWarning: The integral is probably divergent, or slowly convergent.\n",
      "  price,err = scint.quad(func_2, strike, np.inf)\n"
     ]
    },
    {
     "data": {
      "text/plain": [
       "(array([21.43 , 13.935,  8.359,  4.68 ,  2.487]), array([0., 0., 0., 0., 0.]))"
      ]
     },
     "execution_count": 8,
     "metadata": {},
     "output_type": "execute_result"
    }
   ],
   "source": [
    "strike = np.array([80, 90, 100, 110, 120])\n",
    "result = []\n",
    "for i in range(len(strike)):\n",
    "    result.append(model.price(strike[i], 100, texp=0.5))\n",
    "result = np.array(result)\n",
    "np.round(result, 3), np.round(result, 3) - df['Exact'].values"
   ]
  },
  {
   "cell_type": "code",
   "execution_count": 9,
   "id": "511216af",
   "metadata": {},
   "outputs": [],
   "source": [
    "def numerical_diff(f, x):\n",
    "    h = 1e-6\n",
    "    return (f(x + h) - f(x - h)) / (2 * h)\n",
    "\n",
    "def f(AV):\n",
    "    m = pf.Bsm(np.sqrt(AV), intr=0, divr=0)\n",
    "    return m.price(strike, 100, 0.5)\n",
    "\n",
    "def numerical_diff_2(f, x):\n",
    "    h = 1e-6\n",
    "    return (numerical_diff(f, x + h) - numerical_diff(f, x - h)) / (2 * h)"
   ]
  },
  {
   "cell_type": "code",
   "execution_count": 10,
   "id": "a0940e6d",
   "metadata": {},
   "outputs": [],
   "source": [
    "A = model.second_derivative(texp=0.5) - np.power(model.first_derivative(texp=0.5), 2)"
   ]
  },
  {
   "cell_type": "code",
   "execution_count": 11,
   "id": "413204cb",
   "metadata": {},
   "outputs": [
    {
     "data": {
      "text/plain": [
       "(array([21.43 , 13.933,  8.357,  4.677,  2.485]), array([0., 0., 0., 0., 0.]))"
      ]
     },
     "execution_count": 11,
     "metadata": {},
     "output_type": "execute_result"
    }
   ],
   "source": [
    "strike = np.arange(80., 121., 10)\n",
    "m_bs = pf.Bsm(sigma=np.sqrt(- model.first_derivative(texp=0.5)), intr=0, divr=0)\n",
    "result = m_bs.price(strike, 100, texp=0.5, cp=1) + 0.5 * A * numerical_diff_2(f, - model.first_derivative(texp=0.5))\n",
    "np.round(result, 3), np.round(result, 3) - df['OP2'].values"
   ]
  },
  {
   "cell_type": "markdown",
   "id": "0f020c4e",
   "metadata": {},
   "source": [
    "#### Table 1B"
   ]
  },
  {
   "cell_type": "markdown",
   "id": "cbae7b22",
   "metadata": {},
   "source": [
    "#### Changing strike"
   ]
  },
  {
   "cell_type": "markdown",
   "id": "a8c7bca2",
   "metadata": {},
   "source": [
    "The values of the parameters(including the values of $\\alpha$, $m$ and $\\zeta$) are different from Table 1A."
   ]
  },
  {
   "cell_type": "code",
   "execution_count": 12,
   "id": "ce08cdc5",
   "metadata": {},
   "outputs": [
    {
     "data": {
      "text/html": [
       "<div>\n",
       "<style scoped>\n",
       "    .dataframe tbody tr th:only-of-type {\n",
       "        vertical-align: middle;\n",
       "    }\n",
       "\n",
       "    .dataframe tbody tr th {\n",
       "        vertical-align: top;\n",
       "    }\n",
       "\n",
       "    .dataframe thead th {\n",
       "        text-align: right;\n",
       "    }\n",
       "</style>\n",
       "<table border=\"1\" class=\"dataframe\">\n",
       "  <thead>\n",
       "    <tr style=\"text-align: right;\">\n",
       "      <th></th>\n",
       "      <th>Strike</th>\n",
       "      <th>BS</th>\n",
       "      <th>OP2</th>\n",
       "      <th>OP3</th>\n",
       "      <th>Exact</th>\n",
       "    </tr>\n",
       "  </thead>\n",
       "  <tbody>\n",
       "    <tr>\n",
       "      <th>0</th>\n",
       "      <td>80</td>\n",
       "      <td>22.206</td>\n",
       "      <td>22.190</td>\n",
       "      <td>22.186</td>\n",
       "      <td>22.192</td>\n",
       "    </tr>\n",
       "    <tr>\n",
       "      <th>1</th>\n",
       "      <td>90</td>\n",
       "      <td>15.186</td>\n",
       "      <td>15.094</td>\n",
       "      <td>15.105</td>\n",
       "      <td>15.099</td>\n",
       "    </tr>\n",
       "    <tr>\n",
       "      <th>2</th>\n",
       "      <td>100</td>\n",
       "      <td>9.848</td>\n",
       "      <td>9.719</td>\n",
       "      <td>9.738</td>\n",
       "      <td>9.726</td>\n",
       "    </tr>\n",
       "    <tr>\n",
       "      <th>3</th>\n",
       "      <td>110</td>\n",
       "      <td>6.093</td>\n",
       "      <td>5.986</td>\n",
       "      <td>6.000</td>\n",
       "      <td>5.992</td>\n",
       "    </tr>\n",
       "    <tr>\n",
       "      <th>4</th>\n",
       "      <td>120</td>\n",
       "      <td>3.623</td>\n",
       "      <td>3.573</td>\n",
       "      <td>3.573</td>\n",
       "      <td>3.576</td>\n",
       "    </tr>\n",
       "  </tbody>\n",
       "</table>\n",
       "</div>"
      ],
      "text/plain": [
       "   Strike      BS     OP2     OP3   Exact\n",
       "0      80  22.206  22.190  22.186  22.192\n",
       "1      90  15.186  15.094  15.105  15.099\n",
       "2     100   9.848   9.719   9.738   9.726\n",
       "3     110   6.093   5.986   6.000   5.992\n",
       "4     120   3.623   3.573   3.573   3.576"
      ]
     },
     "execution_count": 12,
     "metadata": {},
     "output_type": "execute_result"
    }
   ],
   "source": [
    "df = pd.read_excel(file, sheet_name='2')\n",
    "df"
   ]
  },
  {
   "cell_type": "code",
   "execution_count": 13,
   "id": "4ecb2a5f",
   "metadata": {},
   "outputs": [
    {
     "data": {
      "text/plain": [
       "(array([22.206, 15.186,  9.848,  6.093,  3.623]), array([0., 0., 0., 0., 0.]))"
      ]
     },
     "execution_count": 13,
     "metadata": {},
     "output_type": "execute_result"
    }
   ],
   "source": [
    "strike = np.arange(80., 121., 10)\n",
    "m_bs = pf.Bsm(sigma=0.35, intr=0, divr=0)\n",
    "result = m_bs.price(strike, 100, texp=0.5, cp=1)\n",
    "np.round(result, 3), np.round(result, 3) - df['BS'].values"
   ]
  },
  {
   "cell_type": "code",
   "execution_count": 14,
   "id": "f1b0d2b0",
   "metadata": {},
   "outputs": [],
   "source": [
    "model = ousv.OusvBallRoma1994(sigma=0.1225, mr=8, vov=0.8, rho=0, intr=0)"
   ]
  },
  {
   "cell_type": "code",
   "execution_count": 15,
   "id": "a99adc32",
   "metadata": {},
   "outputs": [
    {
     "name": "stderr",
     "output_type": "stream",
     "text": [
      "C:\\Anaconda3\\lib\\site-packages\\pyfeng\\ousv.py:93: RuntimeWarning: divide by zero encountered in log\n",
      "  n = 2 * self.mr * self.theta * np.log(2 * gamma * np.exp((self.mr - gamma) * texp / 2) / g) /  (self.vov * self.vov)\n",
      "C:\\Anaconda3\\lib\\site-packages\\pyfeng\\ousv.py:119: IntegrationWarning: The maximum number of subdivisions (50) has been achieved.\n",
      "  If increasing the limit yields no improvement it is advised to analyze \n",
      "  the integrand in order to determine the difficulties.  If the position of a \n",
      "  local difficulty can be determined (singularity, discontinuity) one will \n",
      "  probably gain from splitting up the interval and calling the integrator \n",
      "  on the subranges.  Perhaps a special-purpose integrator should be used.\n",
      "  f,err = scint.quad(func_1, -np.inf, np.inf)\n"
     ]
    },
    {
     "data": {
      "text/plain": [
       "(array([22.192, 15.099,  9.726,  5.992,  3.576]), array([0., 0., 0., 0., 0.]))"
      ]
     },
     "execution_count": 15,
     "metadata": {},
     "output_type": "execute_result"
    }
   ],
   "source": [
    "strike = np.array([80, 90, 100, 110, 120])\n",
    "result = []\n",
    "for i in range(len(strike)):\n",
    "    result.append(model.price(strike[i], 100, texp=0.5))\n",
    "result = np.array(result)\n",
    "np.round(result, 3), np.round(result, 3) - df['Exact'].values"
   ]
  },
  {
   "cell_type": "code",
   "execution_count": 16,
   "id": "200eef68",
   "metadata": {},
   "outputs": [],
   "source": [
    "A = model.second_derivative(texp=0.5) - np.power(model.first_derivative(texp=0.5), 2)"
   ]
  },
  {
   "cell_type": "code",
   "execution_count": 17,
   "id": "1f63a68f",
   "metadata": {},
   "outputs": [
    {
     "data": {
      "text/plain": [
       "(array([22.191, 15.094,  9.719,  5.986,  3.573]),\n",
       " array([0.001, 0.   , 0.   , 0.   , 0.   ]))"
      ]
     },
     "execution_count": 17,
     "metadata": {},
     "output_type": "execute_result"
    }
   ],
   "source": [
    "strike = np.arange(80., 121., 10)\n",
    "m_bs = pf.Bsm(sigma=np.sqrt(- model.first_derivative(texp=0.5)), intr=0, divr=0)\n",
    "result = m_bs.price(strike, 100, texp=0.5, cp=1) + 0.5 * A * numerical_diff_2(f, - model.first_derivative(texp=0.5))\n",
    "np.round(result, 3), np.round(result, 3) - df['OP2'].values"
   ]
  },
  {
   "cell_type": "markdown",
   "id": "4e1c38a1",
   "metadata": {},
   "source": [
    "#### Table 2A"
   ]
  },
  {
   "cell_type": "markdown",
   "id": "5de63818",
   "metadata": {},
   "source": [
    "#### Changing strike and time to maturity"
   ]
  },
  {
   "cell_type": "code",
   "execution_count": 18,
   "id": "28059e73",
   "metadata": {},
   "outputs": [
    {
     "data": {
      "text/html": [
       "<div>\n",
       "<style scoped>\n",
       "    .dataframe tbody tr th:only-of-type {\n",
       "        vertical-align: middle;\n",
       "    }\n",
       "\n",
       "    .dataframe tbody tr th {\n",
       "        vertical-align: top;\n",
       "    }\n",
       "\n",
       "    .dataframe thead th {\n",
       "        text-align: right;\n",
       "    }\n",
       "</style>\n",
       "<table border=\"1\" class=\"dataframe\">\n",
       "  <thead>\n",
       "    <tr style=\"text-align: right;\">\n",
       "      <th></th>\n",
       "      <th>Strike</th>\n",
       "      <th>T</th>\n",
       "      <th>BS</th>\n",
       "      <th>OP</th>\n",
       "      <th>SSBS</th>\n",
       "      <th>New</th>\n",
       "    </tr>\n",
       "  </thead>\n",
       "  <tbody>\n",
       "    <tr>\n",
       "      <th>0</th>\n",
       "      <td>90</td>\n",
       "      <td>0.083333</td>\n",
       "      <td>10.903</td>\n",
       "      <td>10.919</td>\n",
       "      <td>10.88</td>\n",
       "      <td>10.92</td>\n",
       "    </tr>\n",
       "    <tr>\n",
       "      <th>1</th>\n",
       "      <td>100</td>\n",
       "      <td>0.083333</td>\n",
       "      <td>3.353</td>\n",
       "      <td>3.314</td>\n",
       "      <td>3.28</td>\n",
       "      <td>3.31</td>\n",
       "    </tr>\n",
       "    <tr>\n",
       "      <th>2</th>\n",
       "      <td>105</td>\n",
       "      <td>0.083333</td>\n",
       "      <td>1.377</td>\n",
       "      <td>1.352</td>\n",
       "      <td>1.31</td>\n",
       "      <td>1.35</td>\n",
       "    </tr>\n",
       "    <tr>\n",
       "      <th>3</th>\n",
       "      <td>110</td>\n",
       "      <td>0.083333</td>\n",
       "      <td>0.451</td>\n",
       "      <td>0.459</td>\n",
       "      <td>0.41</td>\n",
       "      <td>0.46</td>\n",
       "    </tr>\n",
       "    <tr>\n",
       "      <th>4</th>\n",
       "      <td>120</td>\n",
       "      <td>0.083333</td>\n",
       "      <td>0.025</td>\n",
       "      <td>0.037</td>\n",
       "      <td>0.02</td>\n",
       "      <td>0.04</td>\n",
       "    </tr>\n",
       "    <tr>\n",
       "      <th>5</th>\n",
       "      <td>90</td>\n",
       "      <td>0.500000</td>\n",
       "      <td>16.102</td>\n",
       "      <td>16.091</td>\n",
       "      <td>15.94</td>\n",
       "      <td>16.09</td>\n",
       "    </tr>\n",
       "    <tr>\n",
       "      <th>6</th>\n",
       "      <td>100</td>\n",
       "      <td>0.500000</td>\n",
       "      <td>9.698</td>\n",
       "      <td>9.651</td>\n",
       "      <td>9.45</td>\n",
       "      <td>9.65</td>\n",
       "    </tr>\n",
       "    <tr>\n",
       "      <th>7</th>\n",
       "      <td>105</td>\n",
       "      <td>0.500000</td>\n",
       "      <td>7.249</td>\n",
       "      <td>7.196</td>\n",
       "      <td>6.99</td>\n",
       "      <td>7.20</td>\n",
       "    </tr>\n",
       "    <tr>\n",
       "      <th>8</th>\n",
       "      <td>110</td>\n",
       "      <td>0.500000</td>\n",
       "      <td>5.290</td>\n",
       "      <td>5.241</td>\n",
       "      <td>5.03</td>\n",
       "      <td>5.24</td>\n",
       "    </tr>\n",
       "    <tr>\n",
       "      <th>9</th>\n",
       "      <td>120</td>\n",
       "      <td>0.500000</td>\n",
       "      <td>2.634</td>\n",
       "      <td>2.614</td>\n",
       "      <td>2.42</td>\n",
       "      <td>2.61</td>\n",
       "    </tr>\n",
       "  </tbody>\n",
       "</table>\n",
       "</div>"
      ],
      "text/plain": [
       "   Strike         T      BS      OP   SSBS    New\n",
       "0      90  0.083333  10.903  10.919  10.88  10.92\n",
       "1     100  0.083333   3.353   3.314   3.28   3.31\n",
       "2     105  0.083333   1.377   1.352   1.31   1.35\n",
       "3     110  0.083333   0.451   0.459   0.41   0.46\n",
       "4     120  0.083333   0.025   0.037   0.02   0.04\n",
       "5      90  0.500000  16.102  16.091  15.94  16.09\n",
       "6     100  0.500000   9.698   9.651   9.45   9.65\n",
       "7     105  0.500000   7.249   7.196   6.99   7.20\n",
       "8     110  0.500000   5.290   5.241   5.03   5.24\n",
       "9     120  0.500000   2.634   2.614   2.42   2.61"
      ]
     },
     "execution_count": 18,
     "metadata": {},
     "output_type": "execute_result"
    }
   ],
   "source": [
    "df = pd.read_excel(file, sheet_name='3')\n",
    "df"
   ]
  },
  {
   "cell_type": "code",
   "execution_count": 19,
   "id": "8f6c21a8",
   "metadata": {},
   "outputs": [
    {
     "data": {
      "text/plain": [
       "(array([15.935,  9.454,  6.99 ,  5.034,  2.424]),\n",
       " array([-0.005,  0.004,  0.   ,  0.004,  0.004]))"
      ]
     },
     "execution_count": 19,
     "metadata": {},
     "output_type": "execute_result"
    }
   ],
   "source": [
    "strike = np.array([90, 100, 105, 110, 120])\n",
    "m_bs = pf.Bsm(sigma=0.25, intr=0.0953, divr=0)\n",
    "result = m_bs.price(strike, 100, texp=0.5, cp=1)\n",
    "np.round(result, 3), np.round(result, 3) - df['SSBS'][5:].values"
   ]
  },
  {
   "cell_type": "code",
   "execution_count": 20,
   "id": "2e053c5e",
   "metadata": {},
   "outputs": [
    {
     "data": {
      "text/plain": [
       "(array([10.882,  3.28 ,  1.312,  0.414,  0.02 ]),\n",
       " array([0.002, 0.   , 0.002, 0.004, 0.   ]))"
      ]
     },
     "execution_count": 20,
     "metadata": {},
     "output_type": "execute_result"
    }
   ],
   "source": [
    "strike = np.array([90, 100, 105, 110, 120])\n",
    "m_bs = pf.Bsm(sigma=0.25, intr=0.0953, divr=0)\n",
    "result = m_bs.price(strike, 100, texp=1 / 12, cp=1)\n",
    "np.round(result, 3), np.round(result, 3) - df['SSBS'][0:5].values"
   ]
  },
  {
   "cell_type": "code",
   "execution_count": 21,
   "id": "6e0d8651",
   "metadata": {},
   "outputs": [
    {
     "data": {
      "text/plain": [
       "(array([10.912,  3.385,  1.405,  0.468,  0.027]),\n",
       " array([0.009, 0.032, 0.028, 0.017, 0.002]))"
      ]
     },
     "execution_count": 21,
     "metadata": {},
     "output_type": "execute_result"
    }
   ],
   "source": [
    "sigma = 0.25\n",
    "theta = 0.25\n",
    "texp = 0.5\n",
    "mr = 16\n",
    "vov = 0.4\n",
    "AV = np.power(vov, 2) / (2 * mr) + np.power(theta, 2) - np.power(vov, 2) * (1 - np.exp(-2 * mr * texp)) / (4 * np.power(mr, 2) * texp)\n",
    "\n",
    "strike = np.array([90, 100, 105, 110, 120])\n",
    "m_bs = pf.Bsm(sigma=np.sqrt(AV), intr=0.0953, divr=0)\n",
    "result = m_bs.price(strike, 100, texp=1/12, cp=1)\n",
    "np.round(result, 3), np.round(result, 3) - df['BS'][0:5].values"
   ]
  },
  {
   "cell_type": "code",
   "execution_count": 22,
   "id": "60ca74a0",
   "metadata": {},
   "outputs": [
    {
     "data": {
      "text/plain": [
       "(array([16.102,  9.698,  7.249,  5.29 ,  2.634]), array([0., 0., 0., 0., 0.]))"
      ]
     },
     "execution_count": 22,
     "metadata": {},
     "output_type": "execute_result"
    }
   ],
   "source": [
    "sigma = 0.25\n",
    "theta = 0.25\n",
    "texp = 0.5\n",
    "mr = 16\n",
    "vov = 0.4\n",
    "AV = np.power(vov, 2) / (2 * mr) + np.power(theta, 2) - np.power(vov, 2) * (1 - np.exp(-2 * mr * texp)) / (4 * np.power(mr, 2) * texp)\n",
    "\n",
    "strike = np.array([90, 100, 105, 110, 120])\n",
    "m_bs = pf.Bsm(sigma=np.sqrt(AV), intr=0.0953, divr=0)\n",
    "result = m_bs.price(strike, 100, texp=0.5, cp=1)\n",
    "np.round(result, 3), np.round(result, 3) - df['BS'][5:].values"
   ]
  },
  {
   "cell_type": "code",
   "execution_count": 23,
   "id": "5b6c36f3",
   "metadata": {},
   "outputs": [],
   "source": [
    "model = ousv.OusvSteinStein1991(sigma=0.25, mr=16, vov=0.8, rho=0, intr=0.09531)"
   ]
  },
  {
   "cell_type": "code",
   "execution_count": 24,
   "id": "92184b41",
   "metadata": {},
   "outputs": [
    {
     "name": "stderr",
     "output_type": "stream",
     "text": [
      "C:\\Anaconda3\\lib\\site-packages\\pyfeng\\ousv.py:29: RuntimeWarning: overflow encountered in sinh\n",
      "  if np.sinh(2 * alpha) != np.inf and np.cosh(2 * alpha) != np.inf:\n",
      "C:\\Anaconda3\\lib\\site-packages\\pyfeng\\ousv.py:49: IntegrationWarning: The maximum number of subdivisions (50) has been achieved.\n",
      "  If increasing the limit yields no improvement it is advised to analyze \n",
      "  the integrand in order to determine the difficulties.  If the position of a \n",
      "  local difficulty can be determined (singularity, discontinuity) one will \n",
      "  probably gain from splitting up the interval and calling the integrator \n",
      "  on the subranges.  Perhaps a special-purpose integrator should be used.\n",
      "  f,err = scint.quad(func_1, -np.inf, np.inf)\n",
      "C:\\Anaconda3\\lib\\site-packages\\pyfeng\\ousv.py:49: IntegrationWarning: The integral is probably divergent, or slowly convergent.\n",
      "  f,err = scint.quad(func_1, -np.inf, np.inf)\n",
      "C:\\Anaconda3\\lib\\site-packages\\pyfeng\\ousv.py:65: IntegrationWarning: The integral is probably divergent, or slowly convergent.\n",
      "  price,err = scint.quad(func_2, strike, np.inf)\n",
      "C:\\Anaconda3\\lib\\site-packages\\pyfeng\\ousv.py:65: IntegrationWarning: The algorithm does not converge.  Roundoff error is detected\n",
      "  in the extrapolation table.  It is assumed that the requested tolerance\n",
      "  cannot be achieved, and that the returned result (if full_output = 1) is \n",
      "  the best which can be obtained.\n",
      "  price,err = scint.quad(func_2, strike, np.inf)\n"
     ]
    },
    {
     "data": {
      "text/plain": [
       "(array([ 1.21030e+01,  5.37500e+00,  3.35900e+00, -5.92968e+03,\n",
       "         8.01000e-01]),\n",
       " array([ 1.18300e+00,  2.06500e+00,  2.00900e+00, -5.93014e+03,\n",
       "         7.61000e-01]))"
      ]
     },
     "execution_count": 24,
     "metadata": {},
     "output_type": "execute_result"
    }
   ],
   "source": [
    "strike = [90, 100, 105, 110, 120]\n",
    "result = []\n",
    "for s in strike:\n",
    "    result.append(model.price(s, 100, texp=1/12, cp=1))\n",
    "result = np.array(result)\n",
    "np.round(result, 3), np.round(result, 3) - df['New'][0:5].values"
   ]
  },
  {
   "cell_type": "code",
   "execution_count": 25,
   "id": "55e64ce7",
   "metadata": {},
   "outputs": [
    {
     "data": {
      "text/plain": [
       "(array([17.296, 11.237,  8.861,  6.905,  4.083]),\n",
       " array([1.206, 1.587, 1.661, 1.665, 1.473]))"
      ]
     },
     "execution_count": 25,
     "metadata": {},
     "output_type": "execute_result"
    }
   ],
   "source": [
    "strike = [90, 100, 105, 110, 120]\n",
    "result = []\n",
    "for s in strike:\n",
    "    result.append(model.price(s, 100, texp=0.5, cp=1))\n",
    "result = np.array(result)\n",
    "np.round(result, 3), np.round(result, 3) - df['New'][5:].values"
   ]
  },
  {
   "cell_type": "markdown",
   "id": "41625d08",
   "metadata": {},
   "source": [
    "### 2.2 Results in [Schobel and Zhu(1999)](https://doi.org/10.1023/A:1009803506170)."
   ]
  },
  {
   "cell_type": "markdown",
   "id": "d0a4b3ef",
   "metadata": {},
   "source": [
    "#### Table 1A"
   ]
  },
  {
   "cell_type": "markdown",
   "id": "a6d83ca5",
   "metadata": {},
   "source": [
    "#### Changing Strike"
   ]
  },
  {
   "cell_type": "code",
   "execution_count": 26,
   "id": "c1e3e8be",
   "metadata": {},
   "outputs": [
    {
     "data": {
      "text/html": [
       "<div>\n",
       "<style scoped>\n",
       "    .dataframe tbody tr th:only-of-type {\n",
       "        vertical-align: middle;\n",
       "    }\n",
       "\n",
       "    .dataframe tbody tr th {\n",
       "        vertical-align: top;\n",
       "    }\n",
       "\n",
       "    .dataframe thead th {\n",
       "        text-align: right;\n",
       "    }\n",
       "</style>\n",
       "<table border=\"1\" class=\"dataframe\">\n",
       "  <thead>\n",
       "    <tr style=\"text-align: right;\">\n",
       "      <th></th>\n",
       "      <th>Strike</th>\n",
       "      <th>T</th>\n",
       "      <th>AVBS</th>\n",
       "      <th>SSBS</th>\n",
       "    </tr>\n",
       "  </thead>\n",
       "  <tbody>\n",
       "    <tr>\n",
       "      <th>0</th>\n",
       "      <td>90</td>\n",
       "      <td>0.5</td>\n",
       "      <td>15.152</td>\n",
       "      <td>15.118</td>\n",
       "    </tr>\n",
       "    <tr>\n",
       "      <th>1</th>\n",
       "      <td>95</td>\n",
       "      <td>0.5</td>\n",
       "      <td>11.391</td>\n",
       "      <td>11.342</td>\n",
       "    </tr>\n",
       "    <tr>\n",
       "      <th>2</th>\n",
       "      <td>100</td>\n",
       "      <td>0.5</td>\n",
       "      <td>8.203</td>\n",
       "      <td>8.142</td>\n",
       "    </tr>\n",
       "    <tr>\n",
       "      <th>3</th>\n",
       "      <td>105</td>\n",
       "      <td>0.5</td>\n",
       "      <td>5.650</td>\n",
       "      <td>5.584</td>\n",
       "    </tr>\n",
       "    <tr>\n",
       "      <th>4</th>\n",
       "      <td>110</td>\n",
       "      <td>0.5</td>\n",
       "      <td>3.722</td>\n",
       "      <td>3.658</td>\n",
       "    </tr>\n",
       "    <tr>\n",
       "      <th>5</th>\n",
       "      <td>115</td>\n",
       "      <td>0.5</td>\n",
       "      <td>2.349</td>\n",
       "      <td>2.293</td>\n",
       "    </tr>\n",
       "    <tr>\n",
       "      <th>6</th>\n",
       "      <td>120</td>\n",
       "      <td>0.5</td>\n",
       "      <td>1.422</td>\n",
       "      <td>1.377</td>\n",
       "    </tr>\n",
       "  </tbody>\n",
       "</table>\n",
       "</div>"
      ],
      "text/plain": [
       "   Strike    T    AVBS    SSBS\n",
       "0      90  0.5  15.152  15.118\n",
       "1      95  0.5  11.391  11.342\n",
       "2     100  0.5   8.203   8.142\n",
       "3     105  0.5   5.650   5.584\n",
       "4     110  0.5   3.722   3.658\n",
       "5     115  0.5   2.349   2.293\n",
       "6     120  0.5   1.422   1.377"
      ]
     },
     "execution_count": 26,
     "metadata": {},
     "output_type": "execute_result"
    }
   ],
   "source": [
    "df = pd.read_excel(file, sheet_name='4')\n",
    "df"
   ]
  },
  {
   "cell_type": "code",
   "execution_count": 27,
   "id": "98e11e7e",
   "metadata": {},
   "outputs": [
    {
     "data": {
      "text/plain": [
       "(array([15.152, 11.391,  8.203,  5.65 ,  3.722,  2.349,  1.422]),\n",
       " array([0., 0., 0., 0., 0., 0., 0.]))"
      ]
     },
     "execution_count": 27,
     "metadata": {},
     "output_type": "execute_result"
    }
   ],
   "source": [
    "sigma = 0.2\n",
    "theta = 0.2\n",
    "texp = 0.5\n",
    "mr = 4\n",
    "vov = 0.1\n",
    "AV = np.power(vov, 2) / (2 * mr) + np.power(theta, 2) - np.power(vov, 2) * (1 - np.exp(-2 * mr * texp)) / (4 * np.power(mr, 2) * texp)\n",
    "\n",
    "strike = np.array([90, 95, 100, 105, 110, 115, 120])\n",
    "m_bs = pf.Bsm(sigma=np.sqrt(AV), intr=0.0953, divr=0)\n",
    "result = m_bs.price(strike, 100, texp=0.5, cp=1)\n",
    "np.round(result, 3), np.round(result, 3) - df['AVBS'].values"
   ]
  },
  {
   "cell_type": "code",
   "execution_count": 28,
   "id": "677c3463",
   "metadata": {},
   "outputs": [
    {
     "data": {
      "text/plain": [
       "(array([15.118, 11.342,  8.142,  5.584,  3.658,  2.293,  1.377]),\n",
       " array([0., 0., 0., 0., 0., 0., 0.]))"
      ]
     },
     "execution_count": 28,
     "metadata": {},
     "output_type": "execute_result"
    }
   ],
   "source": [
    "strike = np.array([90, 95, 100, 105, 110, 115, 120])\n",
    "m_bs = pf.Bsm(sigma=0.2, intr=0.0953, divr=0)\n",
    "result = m_bs.price(strike, 100, texp=0.5, cp=1)\n",
    "np.round(result, 3), np.round(result, 3) - df['SSBS'].values"
   ]
  },
  {
   "cell_type": "markdown",
   "id": "689d2c12",
   "metadata": {},
   "source": [
    "#### Table 1B and Table 1C"
   ]
  },
  {
   "cell_type": "markdown",
   "id": "719c7e75",
   "metadata": {},
   "source": [
    "#### $\\sigma != \\theta$; Changing Strike"
   ]
  },
  {
   "cell_type": "code",
   "execution_count": 29,
   "id": "cd2aea05",
   "metadata": {},
   "outputs": [
    {
     "data": {
      "text/html": [
       "<div>\n",
       "<style scoped>\n",
       "    .dataframe tbody tr th:only-of-type {\n",
       "        vertical-align: middle;\n",
       "    }\n",
       "\n",
       "    .dataframe tbody tr th {\n",
       "        vertical-align: top;\n",
       "    }\n",
       "\n",
       "    .dataframe thead th {\n",
       "        text-align: right;\n",
       "    }\n",
       "</style>\n",
       "<table border=\"1\" class=\"dataframe\">\n",
       "  <thead>\n",
       "    <tr style=\"text-align: right;\">\n",
       "      <th></th>\n",
       "      <th>Strike</th>\n",
       "      <th>T</th>\n",
       "      <th>AVBS</th>\n",
       "    </tr>\n",
       "  </thead>\n",
       "  <tbody>\n",
       "    <tr>\n",
       "      <th>0</th>\n",
       "      <td>90</td>\n",
       "      <td>0.5</td>\n",
       "      <td>14.501</td>\n",
       "    </tr>\n",
       "    <tr>\n",
       "      <th>1</th>\n",
       "      <td>95</td>\n",
       "      <td>0.5</td>\n",
       "      <td>10.348</td>\n",
       "    </tr>\n",
       "    <tr>\n",
       "      <th>2</th>\n",
       "      <td>100</td>\n",
       "      <td>0.5</td>\n",
       "      <td>6.829</td>\n",
       "    </tr>\n",
       "    <tr>\n",
       "      <th>3</th>\n",
       "      <td>105</td>\n",
       "      <td>0.5</td>\n",
       "      <td>4.132</td>\n",
       "    </tr>\n",
       "    <tr>\n",
       "      <th>4</th>\n",
       "      <td>110</td>\n",
       "      <td>0.5</td>\n",
       "      <td>2.282</td>\n",
       "    </tr>\n",
       "    <tr>\n",
       "      <th>5</th>\n",
       "      <td>115</td>\n",
       "      <td>0.5</td>\n",
       "      <td>1.150</td>\n",
       "    </tr>\n",
       "    <tr>\n",
       "      <th>6</th>\n",
       "      <td>120</td>\n",
       "      <td>0.5</td>\n",
       "      <td>0.530</td>\n",
       "    </tr>\n",
       "  </tbody>\n",
       "</table>\n",
       "</div>"
      ],
      "text/plain": [
       "   Strike    T    AVBS\n",
       "0      90  0.5  14.501\n",
       "1      95  0.5  10.348\n",
       "2     100  0.5   6.829\n",
       "3     105  0.5   4.132\n",
       "4     110  0.5   2.282\n",
       "5     115  0.5   1.150\n",
       "6     120  0.5   0.530"
      ]
     },
     "execution_count": 29,
     "metadata": {},
     "output_type": "execute_result"
    }
   ],
   "source": [
    "df = pd.read_excel(file, sheet_name='5')\n",
    "df"
   ]
  },
  {
   "cell_type": "code",
   "execution_count": 30,
   "id": "d98b8f7f",
   "metadata": {},
   "outputs": [
    {
     "data": {
      "text/plain": [
       "(array([14.501, 10.348,  6.829,  4.132,  2.282,  1.15 ,  0.53 ]),\n",
       " array([0., 0., 0., 0., 0., 0., 0.]))"
      ]
     },
     "execution_count": 30,
     "metadata": {},
     "output_type": "execute_result"
    }
   ],
   "source": [
    "sigma = 0.2\n",
    "theta = 0.1\n",
    "texp = 0.5\n",
    "mr = 4\n",
    "vov = 0.1\n",
    "AV = np.power(vov, 2) / (2 * mr) + np.power(theta, 2) + 2 * theta * (sigma - theta) * (1 - np.exp(- mr * texp)) / (mr * texp) - (np.power(vov, 2) - 2 * mr * np.power(sigma - theta, 2)) * (1 - np.exp(-2 * mr * texp)) / (4 * np.power(mr, 2) * texp)\n",
    "\n",
    "strike = np.array([90, 95, 100, 105, 110, 115, 120])\n",
    "m_bs = pf.Bsm(sigma=np.sqrt(AV), intr=0.0953, divr=0)\n",
    "result = m_bs.price(strike, 100, texp=0.5, cp=1)\n",
    "np.round(result, 3), np.round(result, 3) - df['AVBS'].values"
   ]
  },
  {
   "cell_type": "code",
   "execution_count": 31,
   "id": "ef04dadf",
   "metadata": {},
   "outputs": [
    {
     "data": {
      "text/html": [
       "<div>\n",
       "<style scoped>\n",
       "    .dataframe tbody tr th:only-of-type {\n",
       "        vertical-align: middle;\n",
       "    }\n",
       "\n",
       "    .dataframe tbody tr th {\n",
       "        vertical-align: top;\n",
       "    }\n",
       "\n",
       "    .dataframe thead th {\n",
       "        text-align: right;\n",
       "    }\n",
       "</style>\n",
       "<table border=\"1\" class=\"dataframe\">\n",
       "  <thead>\n",
       "    <tr style=\"text-align: right;\">\n",
       "      <th></th>\n",
       "      <th>Strike</th>\n",
       "      <th>T</th>\n",
       "      <th>AVBS</th>\n",
       "    </tr>\n",
       "  </thead>\n",
       "  <tbody>\n",
       "    <tr>\n",
       "      <th>0</th>\n",
       "      <td>90</td>\n",
       "      <td>0.5</td>\n",
       "      <td>16.111</td>\n",
       "    </tr>\n",
       "    <tr>\n",
       "      <th>1</th>\n",
       "      <td>95</td>\n",
       "      <td>0.5</td>\n",
       "      <td>12.666</td>\n",
       "    </tr>\n",
       "    <tr>\n",
       "      <th>2</th>\n",
       "      <td>100</td>\n",
       "      <td>0.5</td>\n",
       "      <td>9.711</td>\n",
       "    </tr>\n",
       "    <tr>\n",
       "      <th>3</th>\n",
       "      <td>105</td>\n",
       "      <td>0.5</td>\n",
       "      <td>7.264</td>\n",
       "    </tr>\n",
       "    <tr>\n",
       "      <th>4</th>\n",
       "      <td>110</td>\n",
       "      <td>0.5</td>\n",
       "      <td>5.305</td>\n",
       "    </tr>\n",
       "    <tr>\n",
       "      <th>5</th>\n",
       "      <td>115</td>\n",
       "      <td>0.5</td>\n",
       "      <td>3.786</td>\n",
       "    </tr>\n",
       "    <tr>\n",
       "      <th>6</th>\n",
       "      <td>120</td>\n",
       "      <td>0.5</td>\n",
       "      <td>2.646</td>\n",
       "    </tr>\n",
       "  </tbody>\n",
       "</table>\n",
       "</div>"
      ],
      "text/plain": [
       "   Strike    T    AVBS\n",
       "0      90  0.5  16.111\n",
       "1      95  0.5  12.666\n",
       "2     100  0.5   9.711\n",
       "3     105  0.5   7.264\n",
       "4     110  0.5   5.305\n",
       "5     115  0.5   3.786\n",
       "6     120  0.5   2.646"
      ]
     },
     "execution_count": 31,
     "metadata": {},
     "output_type": "execute_result"
    }
   ],
   "source": [
    "df = pd.read_excel(file, sheet_name='6')\n",
    "df"
   ]
  },
  {
   "cell_type": "code",
   "execution_count": 32,
   "id": "99904a2c",
   "metadata": {},
   "outputs": [
    {
     "data": {
      "text/plain": [
       "(array([16.111, 12.666,  9.711,  7.264,  5.305,  3.786,  2.646]),\n",
       " array([0., 0., 0., 0., 0., 0., 0.]))"
      ]
     },
     "execution_count": 32,
     "metadata": {},
     "output_type": "execute_result"
    }
   ],
   "source": [
    "sigma = 0.2\n",
    "theta = 0.3\n",
    "texp = 0.5\n",
    "mr = 4\n",
    "vov = 0.1\n",
    "AV = np.power(vov, 2) / (2 * mr) + np.power(theta, 2) + 2 * theta * (sigma - theta) * (1 - np.exp(- mr * texp)) / (mr * texp) - (np.power(vov, 2) - 2 * mr * np.power(sigma - theta, 2)) * (1 - np.exp(-2 * mr * texp)) / (4 * np.power(mr, 2) * texp)\n",
    "\n",
    "strike = np.array([90, 95, 100, 105, 110, 115, 120])\n",
    "m_bs = pf.Bsm(sigma=np.sqrt(AV), intr=0.0953, divr=0)\n",
    "result = m_bs.price(strike, 100, texp=0.5, cp=1)\n",
    "np.round(result, 3), np.round(result, 3) - df['AVBS'].values"
   ]
  },
  {
   "cell_type": "code",
   "execution_count": null,
   "id": "64322147",
   "metadata": {},
   "outputs": [],
   "source": []
  }
 ],
 "metadata": {
  "kernelspec": {
   "display_name": "Python 3",
   "language": "python",
   "name": "python3"
  },
  "language_info": {
   "codemirror_mode": {
    "name": "ipython",
    "version": 3
   },
   "file_extension": ".py",
   "mimetype": "text/x-python",
   "name": "python",
   "nbconvert_exporter": "python",
   "pygments_lexer": "ipython3",
   "version": "3.8.8"
  }
 },
 "nbformat": 4,
 "nbformat_minor": 5
}
